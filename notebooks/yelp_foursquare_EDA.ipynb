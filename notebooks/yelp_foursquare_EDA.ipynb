{
 "cells": [
  {
   "cell_type": "code",
   "execution_count": 45,
   "metadata": {},
   "outputs": [],
   "source": [
    "# imports\n",
    "\n",
    "import pandas as pd\n",
    "import requests\n",
    "from dotenv import load_dotenv\n",
    "import os\n",
    "import numpy as np\n",
    "import json\n",
    "\n",
    "\n"
   ]
  },
  {
   "cell_type": "markdown",
   "metadata": {},
   "source": [
    "# Foursquare"
   ]
  },
  {
   "cell_type": "markdown",
   "metadata": {},
   "source": [
    "Send a request to Foursquare with a small radius (1000m) for all the bike stations in your city of choice. "
   ]
  },
  {
   "cell_type": "code",
   "execution_count": 19,
   "metadata": {},
   "outputs": [],
   "source": [
    "# Access API Keys\n",
    "load_dotenv(dotenv_path='/Users/mitchellpalmer/Projects/Lighthouse Lab Projects/Data_Statistical_Modeling/Statistical_Modeling_Project/Statistical-Modelling-Project./data')\n",
    "api_key = os.getenv('FOURSQUARE_Project_API_KEY')"
   ]
  },
  {
   "cell_type": "code",
   "execution_count": 23,
   "metadata": {},
   "outputs": [
    {
     "data": {
      "text/html": [
       "<div>\n",
       "<style scoped>\n",
       "    .dataframe tbody tr th:only-of-type {\n",
       "        vertical-align: middle;\n",
       "    }\n",
       "\n",
       "    .dataframe tbody tr th {\n",
       "        vertical-align: top;\n",
       "    }\n",
       "\n",
       "    .dataframe thead th {\n",
       "        text-align: right;\n",
       "    }\n",
       "</style>\n",
       "<table border=\"1\" class=\"dataframe\">\n",
       "  <thead>\n",
       "    <tr style=\"text-align: right;\">\n",
       "      <th></th>\n",
       "      <th>latitude</th>\n",
       "      <th>longitude</th>\n",
       "      <th>timestamp</th>\n",
       "      <th>free bikes</th>\n",
       "      <th>empty slots</th>\n",
       "      <th>total slots</th>\n",
       "    </tr>\n",
       "  </thead>\n",
       "  <tbody>\n",
       "    <tr>\n",
       "      <th>0</th>\n",
       "      <td>38.753590</td>\n",
       "      <td>-9.157170</td>\n",
       "      <td>2025-07-25T01:06:43.220041+00:00Z</td>\n",
       "      <td>1</td>\n",
       "      <td>31</td>\n",
       "      <td>32</td>\n",
       "    </tr>\n",
       "    <tr>\n",
       "      <th>1</th>\n",
       "      <td>38.752310</td>\n",
       "      <td>-9.158850</td>\n",
       "      <td>2025-07-25T01:06:43.219966+00:00Z</td>\n",
       "      <td>0</td>\n",
       "      <td>23</td>\n",
       "      <td>23</td>\n",
       "    </tr>\n",
       "    <tr>\n",
       "      <th>2</th>\n",
       "      <td>38.770657</td>\n",
       "      <td>-9.160248</td>\n",
       "      <td>2025-07-25T01:06:43.219971+00:00Z</td>\n",
       "      <td>5</td>\n",
       "      <td>28</td>\n",
       "      <td>33</td>\n",
       "    </tr>\n",
       "    <tr>\n",
       "      <th>3</th>\n",
       "      <td>38.780690</td>\n",
       "      <td>-9.096220</td>\n",
       "      <td>2025-07-25T01:06:43.220291+00:00Z</td>\n",
       "      <td>10</td>\n",
       "      <td>4</td>\n",
       "      <td>14</td>\n",
       "    </tr>\n",
       "    <tr>\n",
       "      <th>4</th>\n",
       "      <td>38.702936</td>\n",
       "      <td>-9.175234</td>\n",
       "      <td>2025-07-25T01:06:43.220528+00:00Z</td>\n",
       "      <td>8</td>\n",
       "      <td>15</td>\n",
       "      <td>23</td>\n",
       "    </tr>\n",
       "    <tr>\n",
       "      <th>...</th>\n",
       "      <td>...</td>\n",
       "      <td>...</td>\n",
       "      <td>...</td>\n",
       "      <td>...</td>\n",
       "      <td>...</td>\n",
       "      <td>...</td>\n",
       "    </tr>\n",
       "    <tr>\n",
       "      <th>190</th>\n",
       "      <td>38.729724</td>\n",
       "      <td>-9.157531</td>\n",
       "      <td>2025-07-25T01:06:43.220410+00:00Z</td>\n",
       "      <td>4</td>\n",
       "      <td>26</td>\n",
       "      <td>30</td>\n",
       "    </tr>\n",
       "    <tr>\n",
       "      <th>191</th>\n",
       "      <td>38.711498</td>\n",
       "      <td>-9.194361</td>\n",
       "      <td>2025-07-25T01:06:43.220763+00:00Z</td>\n",
       "      <td>2</td>\n",
       "      <td>39</td>\n",
       "      <td>41</td>\n",
       "    </tr>\n",
       "    <tr>\n",
       "      <th>192</th>\n",
       "      <td>38.739395</td>\n",
       "      <td>-9.162447</td>\n",
       "      <td>2025-07-25T01:06:43.220169+00:00Z</td>\n",
       "      <td>0</td>\n",
       "      <td>17</td>\n",
       "      <td>17</td>\n",
       "    </tr>\n",
       "    <tr>\n",
       "      <th>193</th>\n",
       "      <td>38.708780</td>\n",
       "      <td>-9.137125</td>\n",
       "      <td>2025-07-25T01:06:43.220502+00:00Z</td>\n",
       "      <td>13</td>\n",
       "      <td>7</td>\n",
       "      <td>20</td>\n",
       "    </tr>\n",
       "    <tr>\n",
       "      <th>194</th>\n",
       "      <td>38.740950</td>\n",
       "      <td>-9.134090</td>\n",
       "      <td>2025-07-25T01:06:43.220188+00:00Z</td>\n",
       "      <td>1</td>\n",
       "      <td>13</td>\n",
       "      <td>14</td>\n",
       "    </tr>\n",
       "  </tbody>\n",
       "</table>\n",
       "<p>195 rows × 6 columns</p>\n",
       "</div>"
      ],
      "text/plain": [
       "      latitude  longitude                          timestamp  free bikes  \\\n",
       "0    38.753590  -9.157170  2025-07-25T01:06:43.220041+00:00Z           1   \n",
       "1    38.752310  -9.158850  2025-07-25T01:06:43.219966+00:00Z           0   \n",
       "2    38.770657  -9.160248  2025-07-25T01:06:43.219971+00:00Z           5   \n",
       "3    38.780690  -9.096220  2025-07-25T01:06:43.220291+00:00Z          10   \n",
       "4    38.702936  -9.175234  2025-07-25T01:06:43.220528+00:00Z           8   \n",
       "..         ...        ...                                ...         ...   \n",
       "190  38.729724  -9.157531  2025-07-25T01:06:43.220410+00:00Z           4   \n",
       "191  38.711498  -9.194361  2025-07-25T01:06:43.220763+00:00Z           2   \n",
       "192  38.739395  -9.162447  2025-07-25T01:06:43.220169+00:00Z           0   \n",
       "193  38.708780  -9.137125  2025-07-25T01:06:43.220502+00:00Z          13   \n",
       "194  38.740950  -9.134090  2025-07-25T01:06:43.220188+00:00Z           1   \n",
       "\n",
       "     empty slots  total slots  \n",
       "0             31           32  \n",
       "1             23           23  \n",
       "2             28           33  \n",
       "3              4           14  \n",
       "4             15           23  \n",
       "..           ...          ...  \n",
       "190           26           30  \n",
       "191           39           41  \n",
       "192           17           17  \n",
       "193            7           20  \n",
       "194           13           14  \n",
       "\n",
       "[195 rows x 6 columns]"
      ]
     },
     "execution_count": 23,
     "metadata": {},
     "output_type": "execute_result"
    }
   ],
   "source": [
    "# Upload Lisbon CityBike Data .CSV\n",
    "lb_citybikes = pd.read_csv('/Users/mitchellpalmer/Projects/Lighthouse Lab Projects/Data_Statistical_Modeling/Statistical_Modeling_Project/Statistical-Modelling-Project./data/lisbon_bike_station_df.csv')\n",
    "\n",
    "lb_citybikes"
   ]
  },
  {
   "cell_type": "code",
   "execution_count": 27,
   "metadata": {},
   "outputs": [
    {
     "data": {
      "text/html": [
       "<div>\n",
       "<style scoped>\n",
       "    .dataframe tbody tr th:only-of-type {\n",
       "        vertical-align: middle;\n",
       "    }\n",
       "\n",
       "    .dataframe tbody tr th {\n",
       "        vertical-align: top;\n",
       "    }\n",
       "\n",
       "    .dataframe thead th {\n",
       "        text-align: right;\n",
       "    }\n",
       "</style>\n",
       "<table border=\"1\" class=\"dataframe\">\n",
       "  <thead>\n",
       "    <tr style=\"text-align: right;\">\n",
       "      <th></th>\n",
       "      <th>latitude</th>\n",
       "      <th>longitude</th>\n",
       "      <th>timestamp</th>\n",
       "      <th>free bikes</th>\n",
       "      <th>empty slots</th>\n",
       "      <th>total slots</th>\n",
       "      <th>coordinates</th>\n",
       "    </tr>\n",
       "  </thead>\n",
       "  <tbody>\n",
       "    <tr>\n",
       "      <th>0</th>\n",
       "      <td>38.753590</td>\n",
       "      <td>-9.157170</td>\n",
       "      <td>2025-07-25T01:06:43.220041+00:00Z</td>\n",
       "      <td>1</td>\n",
       "      <td>31</td>\n",
       "      <td>32</td>\n",
       "      <td>38.75359,-9.15717</td>\n",
       "    </tr>\n",
       "    <tr>\n",
       "      <th>1</th>\n",
       "      <td>38.752310</td>\n",
       "      <td>-9.158850</td>\n",
       "      <td>2025-07-25T01:06:43.219966+00:00Z</td>\n",
       "      <td>0</td>\n",
       "      <td>23</td>\n",
       "      <td>23</td>\n",
       "      <td>38.75231,-9.15885</td>\n",
       "    </tr>\n",
       "    <tr>\n",
       "      <th>2</th>\n",
       "      <td>38.770657</td>\n",
       "      <td>-9.160248</td>\n",
       "      <td>2025-07-25T01:06:43.219971+00:00Z</td>\n",
       "      <td>5</td>\n",
       "      <td>28</td>\n",
       "      <td>33</td>\n",
       "      <td>38.770657,-9.160248</td>\n",
       "    </tr>\n",
       "    <tr>\n",
       "      <th>3</th>\n",
       "      <td>38.780690</td>\n",
       "      <td>-9.096220</td>\n",
       "      <td>2025-07-25T01:06:43.220291+00:00Z</td>\n",
       "      <td>10</td>\n",
       "      <td>4</td>\n",
       "      <td>14</td>\n",
       "      <td>38.78069,-9.09622</td>\n",
       "    </tr>\n",
       "    <tr>\n",
       "      <th>4</th>\n",
       "      <td>38.702936</td>\n",
       "      <td>-9.175234</td>\n",
       "      <td>2025-07-25T01:06:43.220528+00:00Z</td>\n",
       "      <td>8</td>\n",
       "      <td>15</td>\n",
       "      <td>23</td>\n",
       "      <td>38.702936,-9.175234</td>\n",
       "    </tr>\n",
       "  </tbody>\n",
       "</table>\n",
       "</div>"
      ],
      "text/plain": [
       "    latitude  longitude                          timestamp  free bikes  \\\n",
       "0  38.753590  -9.157170  2025-07-25T01:06:43.220041+00:00Z           1   \n",
       "1  38.752310  -9.158850  2025-07-25T01:06:43.219966+00:00Z           0   \n",
       "2  38.770657  -9.160248  2025-07-25T01:06:43.219971+00:00Z           5   \n",
       "3  38.780690  -9.096220  2025-07-25T01:06:43.220291+00:00Z          10   \n",
       "4  38.702936  -9.175234  2025-07-25T01:06:43.220528+00:00Z           8   \n",
       "\n",
       "   empty slots  total slots          coordinates  \n",
       "0           31           32    38.75359,-9.15717  \n",
       "1           23           23    38.75231,-9.15885  \n",
       "2           28           33  38.770657,-9.160248  \n",
       "3            4           14    38.78069,-9.09622  \n",
       "4           15           23  38.702936,-9.175234  "
      ]
     },
     "execution_count": 27,
     "metadata": {},
     "output_type": "execute_result"
    }
   ],
   "source": [
    "# Parameters\n",
    "lb_citybikes['coordinates'] = lb_citybikes['latitude'].astype(str) + ',' + lb_citybikes['longitude'].astype(str)\n",
    "\n",
    "lb_citybikes.head(5)"
   ]
  },
  {
   "cell_type": "code",
   "execution_count": 46,
   "metadata": {},
   "outputs": [
    {
     "data": {
      "text/plain": [
       "0      38.75359,-9.15717\n",
       "1      38.75231,-9.15885\n",
       "2    38.770657,-9.160248\n",
       "3      38.78069,-9.09622\n",
       "4    38.702936,-9.175234\n",
       "5      38.73812,-9.14617\n",
       "6      38.75115,-9.15907\n",
       "7      38.73617,-9.13672\n",
       "8    38.744521,-9.097661\n",
       "9    38.731424,-9.135356\n",
       "Name: coordinates, dtype: object"
      ]
     },
     "execution_count": 46,
     "metadata": {},
     "output_type": "execute_result"
    }
   ],
   "source": [
    "# Create Parameters\n",
    "ll = lb_citybikes['coordinates'].head(10)\n",
    "\n",
    "# Assign Parameters\n",
    "paramters = {\n",
    "    'll' : ll,\n",
    "    'radius':1000,\n",
    "    'fields':'name,fsq_place_id,distance,categories,attributes,price,popularity,rating,stats,hours,hours_popular,veracity_rating',\n",
    "}\n",
    "\n",
    "url = 'https://places-api.foursquare.com/places/search'\n",
    "\n",
    "headers = {\n",
    "    'accept': 'application/json',\n",
    "    'authorization': 'Bearer'+api_key,\n",
    "    'X-Places-Api-Version': '2025-06-17'\n",
    "}\n",
    "\n",
    "ll\n"
   ]
  },
  {
   "cell_type": "code",
   "execution_count": 47,
   "metadata": {},
   "outputs": [],
   "source": [
    "# FOURSQUARE Places API\n",
    "\n",
    "for coordinates in ll:\n",
    "\n",
    "    paramters = {\n",
    "    'll' : ll,\n",
    "    'radius':1000,\n",
    "    'fields':'name,fsq_place_id,distance,categories,attributes,price,popularity,rating,stats,hours,hours_popular,veracity_rating',\n",
    "    }\n",
    "    \n",
    "    response = requests.get(url,headers=headers,params=paramters)\n",
    "    data = response.json()\n",
    "    data"
   ]
  },
  {
   "cell_type": "code",
   "execution_count": 53,
   "metadata": {},
   "outputs": [
    {
     "name": "stdout",
     "output_type": "stream",
     "text": [
      "{'attributes': {},\n",
      " 'categories': [{'fsq_category_id': '4bf58dd8d48988d126941735',\n",
      "                 'icon': {'prefix': 'https://ss3.4sqi.net/img/categories_v2/building/government_',\n",
      "                          'suffix': '.png'},\n",
      "                 'name': 'Government Building',\n",
      "                 'plural_name': 'Government Buildings',\n",
      "                 'short_name': 'Government'},\n",
      "                {'fsq_category_id': '4bf58dd8d48988d12f941735',\n",
      "                 'icon': {'prefix': 'https://ss3.4sqi.net/img/categories_v2/building/library_',\n",
      "                          'suffix': '.png'},\n",
      "                 'name': 'Library',\n",
      "                 'plural_name': 'Libraries',\n",
      "                 'short_name': 'Library'}],\n",
      " 'distance': 124,\n",
      " 'fsq_place_id': '4cf949b7feec6dcb1d0f3836',\n",
      " 'hours': {'is_local_holiday': False},\n",
      " 'hours_popular': [{'close': '2000', 'day': 1, 'open': '0800'},\n",
      "                   {'close': '2300', 'day': 1, 'open': '2200'},\n",
      "                   {'close': '1900', 'day': 2, 'open': '0900'},\n",
      "                   {'close': '1800', 'day': 3, 'open': '0800'},\n",
      "                   {'close': '1800', 'day': 4, 'open': '0900'},\n",
      "                   {'close': '1700', 'day': 5, 'open': '0900'},\n",
      "                   {'close': '2000', 'day': 5, 'open': '1900'},\n",
      "                   {'close': '1200', 'day': 6, 'open': '0800'},\n",
      "                   {'close': '1700', 'day': 6, 'open': '1600'}],\n",
      " 'name': 'Torre Do Tombo',\n",
      " 'popularity': 0.9428882356266607,\n",
      " 'rating': 8.4,\n",
      " 'stats': {'total_photos': 20, 'total_ratings': 21, 'total_tips': 2},\n",
      " 'veracity_rating': 4}\n"
     ]
    }
   ],
   "source": [
    "import pprint\n",
    "\n",
    "pprint.pprint(data['results'][0])\n",
    "# data['context']"
   ]
  },
  {
   "cell_type": "markdown",
   "metadata": {},
   "source": [
    "Parse through the response to get the POI (such as restaurants, bars, etc) details you want (ratings, name, location, etc)"
   ]
  },
  {
   "cell_type": "code",
   "execution_count": null,
   "metadata": {},
   "outputs": [],
   "source": []
  },
  {
   "cell_type": "markdown",
   "metadata": {},
   "source": [
    "Put your parsed results into a DataFrame"
   ]
  },
  {
   "cell_type": "code",
   "execution_count": null,
   "metadata": {},
   "outputs": [],
   "source": []
  },
  {
   "cell_type": "markdown",
   "metadata": {},
   "source": [
    "# Yelp"
   ]
  },
  {
   "cell_type": "markdown",
   "metadata": {},
   "source": [
    "Send a request to Yelp with a small radius (1000m) for all the bike stations in your city of choice. "
   ]
  },
  {
   "cell_type": "code",
   "execution_count": 1,
   "metadata": {},
   "outputs": [],
   "source": [
    "# Yelp](https://docs.developer.yelp.com/docs/fusion-intro) "
   ]
  },
  {
   "cell_type": "markdown",
   "metadata": {},
   "source": [
    "Parse through the response to get the POI (such as restaurants, bars, etc) details you want (ratings, name, location, etc)"
   ]
  },
  {
   "cell_type": "code",
   "execution_count": null,
   "metadata": {},
   "outputs": [],
   "source": []
  },
  {
   "cell_type": "markdown",
   "metadata": {},
   "source": [
    "Put your parsed results into a DataFrame"
   ]
  },
  {
   "cell_type": "markdown",
   "metadata": {},
   "source": []
  },
  {
   "cell_type": "markdown",
   "metadata": {},
   "source": [
    "# Comparing Results"
   ]
  },
  {
   "cell_type": "markdown",
   "metadata": {},
   "source": [
    "Which API provided you with more complete data? Provide an explanation. "
   ]
  },
  {
   "cell_type": "markdown",
   "metadata": {},
   "source": []
  },
  {
   "cell_type": "markdown",
   "metadata": {},
   "source": [
    "Get the top 10 restaurants according to their rating"
   ]
  },
  {
   "cell_type": "code",
   "execution_count": null,
   "metadata": {},
   "outputs": [],
   "source": []
  }
 ],
 "metadata": {
  "kernelspec": {
   "display_name": "data_env312",
   "language": "python",
   "name": "python3"
  },
  "language_info": {
   "codemirror_mode": {
    "name": "ipython",
    "version": 3
   },
   "file_extension": ".py",
   "mimetype": "text/x-python",
   "name": "python",
   "nbconvert_exporter": "python",
   "pygments_lexer": "ipython3",
   "version": "3.12.2"
  }
 },
 "nbformat": 4,
 "nbformat_minor": 4
}
